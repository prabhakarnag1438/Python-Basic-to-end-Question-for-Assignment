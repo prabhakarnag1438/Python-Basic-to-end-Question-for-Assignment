{
 "cells": [
  {
   "cell_type": "markdown",
   "id": "5b7f5a0e",
   "metadata": {},
   "source": [
    "## For Loop\n",
    "A for loop in Python is a control flow statement that is used to repeatedly execute a group of statements as long as the condition is satisfied."
   ]
  },
  {
   "cell_type": "markdown",
   "id": "6860a78f",
   "metadata": {},
   "source": [
    "### Question 1-> Print the elements of a list using a for loop"
   ]
  },
  {
   "cell_type": "code",
   "execution_count": 2,
   "id": "4158cf3d",
   "metadata": {},
   "outputs": [
    {
     "name": "stdout",
     "output_type": "stream",
     "text": [
      "1\n",
      "5\n",
      "6\n",
      "8\n",
      "9\n",
      "8\n"
     ]
    }
   ],
   "source": [
    "l=[1,5,6,8,9,8]\n",
    "for i in l:\n",
    "    print(i)"
   ]
  },
  {
   "cell_type": "markdown",
   "id": "311e8e9f",
   "metadata": {},
   "source": [
    "### Calculate the sum of all numbers from 1 to 10 using a for loop."
   ]
  },
  {
   "cell_type": "code",
   "execution_count": 4,
   "id": "30473592",
   "metadata": {},
   "outputs": [
    {
     "name": "stdout",
     "output_type": "stream",
     "text": [
      "sum of 1 to 10 Number=  55\n"
     ]
    }
   ],
   "source": [
    "sum=0\n",
    "for i in range(1,11):\n",
    "    sum=sum+i\n",
    "    i=i-1\n",
    "print(\"sum of 1 to 10 Number= \",sum)"
   ]
  },
  {
   "cell_type": "markdown",
   "id": "76a38b21",
   "metadata": {},
   "source": [
    "### Create a program that prints the square of each number from 1 to 5 using a for loop"
   ]
  },
  {
   "cell_type": "code",
   "execution_count": 5,
   "id": "4c2f9966",
   "metadata": {},
   "outputs": [
    {
     "name": "stdout",
     "output_type": "stream",
     "text": [
      "square of 1 =  1\n",
      "square of 2 =  4\n",
      "square of 3 =  9\n",
      "square of 4 =  16\n",
      "square of 5 =  25\n"
     ]
    }
   ],
   "source": [
    "for i in range(1,6):\n",
    "    sqr=i*i\n",
    "    print(f\"square of {i} = \",sqr)\n",
    "    i=i-1"
   ]
  },
  {
   "cell_type": "markdown",
   "id": "e5d81b76",
   "metadata": {},
   "source": [
    "### Write a Python program to find the factorial of a given number using a for loop."
   ]
  },
  {
   "cell_type": "code",
   "execution_count": 6,
   "id": "b50dc0ec",
   "metadata": {},
   "outputs": [
    {
     "name": "stdout",
     "output_type": "stream",
     "text": [
      "Enter number 5\n",
      "120\n"
     ]
    }
   ],
   "source": [
    "n=int(input(\"Enter number \"))\n",
    "if n<0:\n",
    "    print(\"wrong no.\")\n",
    "else:\n",
    "    fac=1\n",
    "    for i in range(1,n+1):\n",
    "        fac*=i\n",
    "    print(fac)"
   ]
  },
  {
   "cell_type": "markdown",
   "id": "dd7c5187",
   "metadata": {},
   "source": [
    "### Print the multiplication table of a given number using a for loop."
   ]
  },
  {
   "cell_type": "code",
   "execution_count": 7,
   "id": "0ebd2e98",
   "metadata": {},
   "outputs": [
    {
     "name": "stdout",
     "output_type": "stream",
     "text": [
      "Enter a number 5\n",
      "5 x 1 = 5\n",
      "5 x 2 = 10\n",
      "5 x 3 = 15\n",
      "5 x 4 = 20\n",
      "5 x 5 = 25\n",
      "5 x 6 = 30\n",
      "5 x 7 = 35\n",
      "5 x 8 = 40\n",
      "5 x 9 = 45\n",
      "5 x 10 = 50\n"
     ]
    }
   ],
   "source": [
    "n=int(input(\"Enter a number \"))\n",
    "for i in range(1,11):\n",
    "  result=n*i\n",
    "  print(f\"{n} x {i} = {result}\")"
   ]
  },
  {
   "cell_type": "markdown",
   "id": "f35267f0",
   "metadata": {},
   "source": [
    "###  Iterate through a string and print each character using a for loop.\n"
   ]
  },
  {
   "cell_type": "code",
   "execution_count": 8,
   "id": "d9e2331a",
   "metadata": {},
   "outputs": [
    {
     "name": "stdout",
     "output_type": "stream",
     "text": [
      "Enter a String prabhakar\n",
      "p r a b h a k a r "
     ]
    }
   ],
   "source": [
    "s=input(\"Enter a String \")\n",
    "for i in s:\n",
    "  print(i,end=\" \")"
   ]
  },
  {
   "cell_type": "markdown",
   "id": "67140d9c",
   "metadata": {},
   "source": [
    "### Write a program to find and print the prime numbers between 1 and 20 using a for loop."
   ]
  },
  {
   "cell_type": "code",
   "execution_count": 10,
   "id": "772cd561",
   "metadata": {},
   "outputs": [
    {
     "name": "stdout",
     "output_type": "stream",
     "text": [
      "Prime numbers between 1 and 20 are:\n",
      "2\n",
      "3\n",
      "5\n",
      "7\n",
      "11\n",
      "13\n",
      "17\n",
      "19\n"
     ]
    }
   ],
   "source": [
    "print(\"Prime numbers between 1 and 20 are:\")\n",
    "for number in range(2, 21):\n",
    "    is_prime = True\n",
    "    for i in range(2, number):\n",
    "        if number % i == 0:\n",
    "            is_prime = False\n",
    "            break\n",
    "    if is_prime:\n",
    "        print(number)\n"
   ]
  },
  {
   "cell_type": "markdown",
   "id": "bee88d49",
   "metadata": {},
   "source": [
    "### write a program to find only integer tyoe elements fro list."
   ]
  },
  {
   "cell_type": "code",
   "execution_count": 11,
   "id": "4a66e422",
   "metadata": {},
   "outputs": [
    {
     "name": "stdout",
     "output_type": "stream",
     "text": [
      "[1, 23, 1, 8]\n"
     ]
    }
   ],
   "source": [
    "l=[1,23,1,8,\"ghj\"]\n",
    "new_l=[]\n",
    "for i in l:\n",
    "    if isinstance(i,int):\n",
    "      new_l.append(i)\n",
    "print(new_l)"
   ]
  },
  {
   "cell_type": "code",
   "execution_count": 12,
   "id": "0a37aa49",
   "metadata": {},
   "outputs": [
    {
     "name": "stdout",
     "output_type": "stream",
     "text": [
      "1\n",
      "23\n",
      "1\n",
      "8\n"
     ]
    }
   ],
   "source": [
    "l=[1,23,1,8,\"ghj\"]\n",
    "for i in l:\n",
    "    if isinstance(i,int):\n",
    "        print(i)"
   ]
  },
  {
   "cell_type": "markdown",
   "id": "b2c138a4",
   "metadata": {},
   "source": [
    "### Iterate through a dictionary and print both keys and values using a for loop"
   ]
  },
  {
   "cell_type": "code",
   "execution_count": 13,
   "id": "5ca6479e",
   "metadata": {},
   "outputs": [
    {
     "name": "stdout",
     "output_type": "stream",
     "text": [
      "('p', 1)\n",
      "('r', 9)\n",
      "('a', 8)\n",
      "('b', 4)\n",
      "('h', 5)\n",
      "('k', 7)\n"
     ]
    }
   ],
   "source": [
    "dic ={\"p\":1,\n",
    "      \"r\":2,\n",
    "      \"a\":3,\n",
    "      \"b\":4,\n",
    "      \"h\":5,\n",
    "      \"a\":6,\n",
    "      \"k\":7,\n",
    "      \"a\":8,\n",
    "      \"r\":9}\n",
    "for i in dic.items():\n",
    "  print(i)\n"
   ]
  },
  {
   "cell_type": "markdown",
   "id": "2eaf089e",
   "metadata": {},
   "source": [
    "### Write a program to calculate the average of a list of numbers using a for loop."
   ]
  },
  {
   "cell_type": "code",
   "execution_count": 17,
   "id": "8c8e1843",
   "metadata": {},
   "outputs": [
    {
     "name": "stdout",
     "output_type": "stream",
     "text": [
      "Enter List Element [7,8,9,5]\n",
      "Total values are present in List  4\n",
      "sum of the list element  29\n",
      "average of the given list is  7.25\n"
     ]
    }
   ],
   "source": [
    "l=eval(input(\"Enter List Element \"))\n",
    "count=0\n",
    "sum=0\n",
    "for i in l:\n",
    "  sum=sum+i\n",
    "  count+=1\n",
    "avg=sum/count\n",
    "print(\"Total values are present in List \",count)\n",
    "print(\"sum of the list element \",sum)\n",
    "print(\"average of the given list is \",avg)\n"
   ]
  },
  {
   "cell_type": "markdown",
   "id": "e6236fc6",
   "metadata": {},
   "source": [
    "### write a program to find and sum all digit from a string"
   ]
  },
  {
   "cell_type": "code",
   "execution_count": 19,
   "id": "ca276c74",
   "metadata": {},
   "outputs": [
    {
     "name": "stdout",
     "output_type": "stream",
     "text": [
      "Enter string prabhakar1438\n",
      "1 4 3 8 \n",
      "sum of digit 16\n"
     ]
    }
   ],
   "source": [
    "a=input(\"Enter string \")\n",
    "s=0\n",
    "for i in a:\n",
    "    if i.isdigit():\n",
    "        s=s+int(i)\n",
    "        print(i,end=\" \")\n",
    "print()\n",
    "print(\"sum of digit\",s)"
   ]
  },
  {
   "cell_type": "markdown",
   "id": "09175553",
   "metadata": {},
   "source": [
    "### write a program to find even no and squre that no. from a given list"
   ]
  },
  {
   "cell_type": "code",
   "execution_count": 20,
   "id": "fcb1fe6f",
   "metadata": {},
   "outputs": [
    {
     "name": "stdout",
     "output_type": "stream",
     "text": [
      "Enter a list [2,3,4,5]\n",
      "squre of the even no. 2 is 4\n",
      "squre of the even no. 4 is 16\n"
     ]
    }
   ],
   "source": [
    "l=eval(input(\"Enter a list \"))\n",
    "for i in l:\n",
    "    if i%2==0:\n",
    "        print(f\"squre of the even no. {i} is\",i**2)"
   ]
  },
  {
   "cell_type": "markdown",
   "id": "9a8ead24",
   "metadata": {},
   "source": [
    "### write a program to check given number is prime number or Not"
   ]
  },
  {
   "cell_type": "code",
   "execution_count": 21,
   "id": "3a9e222b",
   "metadata": {},
   "outputs": [
    {
     "name": "stdout",
     "output_type": "stream",
     "text": [
      "Enter NUmber 5\n",
      "5 is  prime number \n"
     ]
    }
   ],
   "source": [
    "n=int(input(\"Enter NUmber \"))\n",
    "tring=True\n",
    "for i in range(2,n):\n",
    "    if n%i==0:\n",
    "        tring=False\n",
    "if tring==True:\n",
    "    print(n,\"is  prime number \")\n",
    "    \n",
    "else:\n",
    "    print(n,\"is not a prime number \")"
   ]
  },
  {
   "cell_type": "code",
   "execution_count": null,
   "id": "fc4db45d",
   "metadata": {},
   "outputs": [],
   "source": []
  }
 ],
 "metadata": {
  "kernelspec": {
   "display_name": "Python 3 (ipykernel)",
   "language": "python",
   "name": "python3"
  },
  "language_info": {
   "codemirror_mode": {
    "name": "ipython",
    "version": 3
   },
   "file_extension": ".py",
   "mimetype": "text/x-python",
   "name": "python",
   "nbconvert_exporter": "python",
   "pygments_lexer": "ipython3",
   "version": "3.9.12"
  }
 },
 "nbformat": 4,
 "nbformat_minor": 5
}
