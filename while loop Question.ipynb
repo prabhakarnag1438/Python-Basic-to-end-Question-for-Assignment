{
 "cells": [
  {
   "cell_type": "markdown",
   "id": "98ec481e",
   "metadata": {},
   "source": [
    "### WAP TO FIND ODD NUMBER FROM A GIVEN LIST"
   ]
  },
  {
   "cell_type": "code",
   "execution_count": 19,
   "id": "7eb8c289",
   "metadata": {},
   "outputs": [
    {
     "name": "stdout",
     "output_type": "stream",
     "text": [
      "Enter a list  [7,8,9,4,5,6]\n",
      "[7, 9, 5]\n"
     ]
    }
   ],
   "source": [
    "a=eval(input('Enter a list  '))\n",
    "l=[]\n",
    "i=0\n",
    "n=len(a)\n",
    "while i<n:\n",
    "    if a[i]%2==1:\n",
    "        l.append(a[i])\n",
    "    i=i+1\n",
    "print(l)"
   ]
  },
  {
   "cell_type": "markdown",
   "id": "0c4410fa",
   "metadata": {},
   "source": [
    "### WAP To Remove Dublicate Values from a given list using while loop"
   ]
  },
  {
   "cell_type": "code",
   "execution_count": 20,
   "id": "4a05e259",
   "metadata": {},
   "outputs": [
    {
     "name": "stdout",
     "output_type": "stream",
     "text": [
      "[3, 5, 4, 7, 9]\n"
     ]
    }
   ],
   "source": [
    "l=[3,5,4,4,3,7,9,9]\n",
    "a=[]\n",
    "i=0\n",
    "n=len(l)\n",
    "while i<n:\n",
    "    if l[i] not in a:\n",
    "        a.append(l[i])\n",
    "    i=i+1\n",
    "print(a)"
   ]
  },
  {
   "cell_type": "markdown",
   "id": "f6a89245",
   "metadata": {},
   "source": [
    "### Write a Python program that uses a while loop to print numbers from    1 to 5."
   ]
  },
  {
   "cell_type": "code",
   "execution_count": 1,
   "id": "dc0decbf",
   "metadata": {},
   "outputs": [
    {
     "name": "stdout",
     "output_type": "stream",
     "text": [
      "0\n",
      "1\n",
      "2\n",
      "3\n",
      "4\n",
      "5\n"
     ]
    }
   ],
   "source": [
    "i=0\n",
    "while(i<=5):\n",
    "    print(i)\n",
    "    i=i+1"
   ]
  },
  {
   "cell_type": "markdown",
   "id": "d04e6c50",
   "metadata": {},
   "source": [
    "### Create a program that asks the user to enter a number. Use a while    loop to print the square of that number until the user enters a    negative number."
   ]
  },
  {
   "cell_type": "code",
   "execution_count": 2,
   "id": "6a9cf677",
   "metadata": {},
   "outputs": [
    {
     "name": "stdout",
     "output_type": "stream",
     "text": [
      "Enter a postive Number 5\n",
      "25\n",
      "Enter a postive Number 9\n",
      "81\n",
      "Enter a postive Number -4\n",
      "Plz Enter Postive Number\n"
     ]
    }
   ],
   "source": [
    "Tir=True\n",
    "while Tir:\n",
    "    n=int(input(\"Enter a postive Number \"))\n",
    "    if n>=0:\n",
    "        print(n*n)\n",
    "    else:\n",
    "        print(\"Plz Enter Postive Number\")\n",
    "        Tir=False"
   ]
  },
  {
   "cell_type": "markdown",
   "id": "ff92d2aa",
   "metadata": {},
   "source": [
    "### Write a Python program to calculate the factorial of a given number    using a while loop\n"
   ]
  },
  {
   "cell_type": "code",
   "execution_count": 3,
   "id": "05e0e46d",
   "metadata": {},
   "outputs": [
    {
     "name": "stdout",
     "output_type": "stream",
     "text": [
      "Enter number 8\n",
      "40320\n"
     ]
    }
   ],
   "source": [
    "n=int(input(\"Enter number \"))\n",
    "if n<0:\n",
    "    print(\"wrong no.\")\n",
    "else:\n",
    "    fac=1\n",
    "    while n>0:\n",
    "        fac*=n\n",
    "        n-=1\n",
    "    print(fac)"
   ]
  },
  {
   "cell_type": "markdown",
   "id": "952f5e20",
   "metadata": {},
   "source": [
    "### Implement a simple password guessing game. Set a password, and ask    the user to guess it using a while loop. Provide hints if the      guessed password is incorrect."
   ]
  },
  {
   "cell_type": "code",
   "execution_count": 8,
   "id": "e5c95618",
   "metadata": {},
   "outputs": [
    {
     "name": "stdout",
     "output_type": "stream",
     "text": [
      "Guess the password: scret\n",
      "Incorrect password, try again!\n",
      "Guess the password: secret\n",
      "Congratulations, you guessed the password!\n"
     ]
    }
   ],
   "source": [
    "password = \"secret\"\n",
    "\n",
    "guess = input(\"Guess the password: \")\n",
    "\n",
    "while guess != password:\n",
    "    print(\"Incorrect password, try again!\")\n",
    "    guess = input(\"Guess the password: \")\n",
    "\n",
    "print(\"Congratulations, you guessed the password!\")"
   ]
  },
  {
   "cell_type": "markdown",
   "id": "abc4fd3c",
   "metadata": {},
   "source": [
    "###  Write a program to find and print the sum of all even numbers from    1 to 20 using a while loop"
   ]
  },
  {
   "cell_type": "code",
   "execution_count": 4,
   "id": "3f3097b2",
   "metadata": {},
   "outputs": [
    {
     "name": "stdout",
     "output_type": "stream",
     "text": [
      "even number is\n",
      "2 4 6 8 10 12 14 16 18 20 \n",
      "sum of all even number  110\n"
     ]
    }
   ],
   "source": [
    "a=1\n",
    "rem=0\n",
    "print(\"even number is\")\n",
    "while a<=20:\n",
    "    if a%2==0:\n",
    "        rem +=a\n",
    "        print(a,end=\" \")\n",
    "    a+=1\n",
    "print(\"\\nsum of all even number \",rem)"
   ]
  },
  {
   "cell_type": "markdown",
   "id": "b84d425c",
   "metadata": {},
   "source": [
    "### Create a program that takes a number as input and prints its    reverse using a while loop. For example, if the input is 123, the    output should be 321"
   ]
  },
  {
   "cell_type": "code",
   "execution_count": 7,
   "id": "5948d7ad",
   "metadata": {},
   "outputs": [
    {
     "name": "stdout",
     "output_type": "stream",
     "text": [
      "Enter Number 456\n",
      "reverse Number  654\n"
     ]
    }
   ],
   "source": [
    "n=int(input(\"Enter Number \"))\n",
    "res=0\n",
    "while n>0:\n",
    "    rem=n%10\n",
    "    res=res*10+rem\n",
    "    n=n//10\n",
    "print(\"reverse Number \",res)\n",
    "# agar kisi no ko check krna hai ki vo no. revers or sidh barabar hai ki nhui?"
   ]
  },
  {
   "cell_type": "markdown",
   "id": "24553830",
   "metadata": {},
   "source": [
    "### Generate a random number between 1 and 10. Ask the user to guess the number using a while loop, providing hints if the guess is too high or too low."
   ]
  },
  {
   "cell_type": "code",
   "execution_count": 9,
   "id": "14410c1c",
   "metadata": {},
   "outputs": [
    {
     "name": "stdout",
     "output_type": "stream",
     "text": [
      "Guess a number between 1 and 10: 8\n",
      "Too high, try again!\n",
      "Guess a number between 1 and 10: 4\n",
      "Too low, try again!\n",
      "Guess a number between 1 and 10: 6\n",
      "Too low, try again!\n",
      "Guess a number between 1 and 10: 7\n",
      "Congratulations, you guessed the number!\n"
     ]
    }
   ],
   "source": [
    "import random\n",
    "number = random.randint(1, 10)\n",
    "\n",
    "guess = int(input(\"Guess a number between 1 and 10: \"))\n",
    "\n",
    "while guess != number:\n",
    "    if guess > number:\n",
    "        print(\"Too high, try again!\")\n",
    "    else:\n",
    "        print(\"Too low, try again!\")\n",
    "    guess = int(input(\"Guess a number between 1 and 10: \"))\n",
    "\n",
    "print(\"Congratulations, you guessed the number!\")"
   ]
  },
  {
   "cell_type": "markdown",
   "id": "083c5181",
   "metadata": {},
   "source": [
    "### Write a program that uses a while loop to repeatedly ask the user to enter a positive number. If the user enters a non-positive number, break out of the loop"
   ]
  },
  {
   "cell_type": "code",
   "execution_count": 10,
   "id": "21143574",
   "metadata": {},
   "outputs": [
    {
     "name": "stdout",
     "output_type": "stream",
     "text": [
      "Enter a postive Number 7\n",
      "Again Enter a postive Number\n",
      "Enter a postive Number 8\n",
      "Again Enter a postive Number\n",
      "Enter a postive Number -8\n",
      "Number is Negative  Exiting the programm\n"
     ]
    }
   ],
   "source": [
    "Enter_Number=True\n",
    "while Enter_Number:\n",
    "  n=int(input(\"Enter a postive Number \"))\n",
    "  if n<=0:\n",
    "    print(\"Number is Negative  Exiting the programm\")\n",
    "    Enter_Number=False\n",
    "  else:\n",
    "    print(\"Again Enter a postive Number\")"
   ]
  },
  {
   "cell_type": "markdown",
   "id": "fc640b8c",
   "metadata": {},
   "source": [
    "### Take a number as input and print its multiplication table using a while loop. The table should be printed up to 10 times"
   ]
  },
  {
   "cell_type": "code",
   "execution_count": 11,
   "id": "22686dcc",
   "metadata": {},
   "outputs": [
    {
     "name": "stdout",
     "output_type": "stream",
     "text": [
      "Enter a number 8\n",
      "8 x 1 = 8\n",
      "8 x 2 = 16\n",
      "8 x 3 = 24\n",
      "8 x 4 = 32\n",
      "8 x 5 = 40\n",
      "8 x 6 = 48\n",
      "8 x 7 = 56\n",
      "8 x 8 = 64\n",
      "8 x 9 = 72\n",
      "8 x 10 = 80\n"
     ]
    }
   ],
   "source": [
    "n=int(input(\"Enter a number \"))\n",
    "m=1\n",
    "while m<=10:\n",
    "  result=n*m\n",
    "  print(f\"{n} x {m} = {result}\")\n",
    "  m=m+1"
   ]
  },
  {
   "cell_type": "markdown",
   "id": "c0048db3",
   "metadata": {},
   "source": [
    "### Write a Python program to check if a given number is a palindrome. A palindrome number is the same when read backward. Use a while loop for the checking process."
   ]
  },
  {
   "cell_type": "code",
   "execution_count": 13,
   "id": "5e203ef7",
   "metadata": {},
   "outputs": [
    {
     "name": "stdout",
     "output_type": "stream",
     "text": [
      "Enter a Number 8548\n",
      "8458\n",
      "Number Not is palindrome\n"
     ]
    }
   ],
   "source": [
    "number=int(input(\"Enter a Number \"))\n",
    "originalnumber=number\n",
    "res=0\n",
    "while number>0:\n",
    "  rem=number%10\n",
    "  res=res*10+rem\n",
    "  number=number//10\n",
    "if res==originalnumber:\n",
    "  print(\"Resvers Number \",res)\n",
    "  print(\"Number is palindrome\")\n",
    "else:\n",
    "  print(res)\n",
    "  print(\"Number Not is palindrome\")\n",
    "\n",
    "\n"
   ]
  },
  {
   "cell_type": "code",
   "execution_count": null,
   "id": "e91c59ea",
   "metadata": {},
   "outputs": [],
   "source": []
  }
 ],
 "metadata": {
  "kernelspec": {
   "display_name": "Python 3 (ipykernel)",
   "language": "python",
   "name": "python3"
  },
  "language_info": {
   "codemirror_mode": {
    "name": "ipython",
    "version": 3
   },
   "file_extension": ".py",
   "mimetype": "text/x-python",
   "name": "python",
   "nbconvert_exporter": "python",
   "pygments_lexer": "ipython3",
   "version": "3.9.12"
  }
 },
 "nbformat": 4,
 "nbformat_minor": 5
}
