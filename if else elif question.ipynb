{
 "cells": [
  {
   "cell_type": "markdown",
   "id": "1280447a",
   "metadata": {},
   "source": [
    "### Write a program to determine if a given integer is even or odd."
   ]
  },
  {
   "cell_type": "code",
   "execution_count": 1,
   "id": "0dc017f6",
   "metadata": {},
   "outputs": [
    {
     "name": "stdout",
     "output_type": "stream",
     "text": [
      "Enter Number 5\n",
      "Number is even\n"
     ]
    }
   ],
   "source": [
    "a=eval(input(\"Enter Number \"))\n",
    "if a%2==0:\n",
    "    print(\" Number is odd\")\n",
    "else:\n",
    "    print(\"Number is even\")"
   ]
  },
  {
   "cell_type": "markdown",
   "id": "80cf794d",
   "metadata": {},
   "source": [
    "### Write a program to categorize individuals into age groups (child, teenager, adult, or senior citizen)."
   ]
  },
  {
   "cell_type": "code",
   "execution_count": 15,
   "id": "7382f2b0",
   "metadata": {},
   "outputs": [
    {
     "name": "stdout",
     "output_type": "stream",
     "text": [
      "Enter age: 121\n",
      "senior citizen\n"
     ]
    }
   ],
   "source": [
    "age=eval(input(\"Enter age: \"))\n",
    "if 0<=age & age<=5:\n",
    "    print(\"child\")\n",
    "elif 5<age & age<=18:\n",
    "    print(\"teenager\")\n",
    "elif 18<age & age<=50:\n",
    "    print(\"adult\")\n",
    "elif age>50 & age<=120:\n",
    "    print(\"senior citizen\")\n",
    "elif age>120:\n",
    "    print(\"death\")\n",
    "else:\n",
    "    print(\"plz enter only postive int value \")"
   ]
  },
  {
   "cell_type": "markdown",
   "id": "f58d7134",
   "metadata": {},
   "source": [
    "### Check if a given year is a leap year in a program."
   ]
  },
  {
   "cell_type": "code",
   "execution_count": 5,
   "id": "9d16dc09",
   "metadata": {},
   "outputs": [
    {
     "name": "stdout",
     "output_type": "stream",
     "text": [
      "enter year 4\n",
      "4 is a leap year.\n"
     ]
    }
   ],
   "source": [
    "year=eval(input(\"enter year \"))\n",
    "if (year % 4 == 0 and year % 100 != 0) or (year % 400 == 0):\n",
    "    print(f\"{year} is a leap year.\")\n",
    "else:\n",
    "    print(f\"{year} is not a leap year.\")"
   ]
  },
  {
   "cell_type": "markdown",
   "id": "ea0730d8",
   "metadata": {},
   "source": [
    "### compare two numbers and print whether the first is greater, less than, or equal to the second.\n"
   ]
  },
  {
   "cell_type": "code",
   "execution_count": 11,
   "id": "da9abbe4",
   "metadata": {},
   "outputs": [
    {
     "name": "stdout",
     "output_type": "stream",
     "text": [
      "enter first no.(A) -7\n",
      "enter second no.(B) 7\n",
      "B is greater than A\n"
     ]
    }
   ],
   "source": [
    "a=eval(input(\"enter first no.(A) \"))\n",
    "b=eval(input(\"enter second no.(B) \"))\n",
    "if a>b:\n",
    "    print(\"A is greater than B\")\n",
    "elif a<b:\n",
    "    print(\"B is greater than A\")\n",
    "else:\n",
    "    print(\"Both are Equal\")"
   ]
  },
  {
   "cell_type": "markdown",
   "id": "7456c9ed",
   "metadata": {},
   "source": [
    "### Determine if a number is positive, negative, or zero in a program."
   ]
  },
  {
   "cell_type": "code",
   "execution_count": 15,
   "id": "47e4469c",
   "metadata": {},
   "outputs": [
    {
     "name": "stdout",
     "output_type": "stream",
     "text": [
      "Enter number 0\n",
      "Number is zero\n"
     ]
    }
   ],
   "source": [
    "num=eval(input(\"Enter number \"))\n",
    "if num>0:\n",
    "    print(\"Number is postive\")\n",
    "elif num<0:\n",
    "    print(\"Number is negative\")\n",
    "else:\n",
    "    print(\"Number is zero\")"
   ]
  },
  {
   "cell_type": "markdown",
   "id": "e4478eff",
   "metadata": {},
   "source": [
    "### Classify a single character as a vowel or consonant in a program."
   ]
  },
  {
   "cell_type": "code",
   "execution_count": 30,
   "id": "eee8d102",
   "metadata": {},
   "outputs": [
    {
     "name": "stdout",
     "output_type": "stream",
     "text": [
      "Enter single character ss\n",
      "Please enter a single alphabetical character.\n"
     ]
    }
   ],
   "source": [
    "ch=input(\"Enter single character \")\n",
    "if len(ch)==1 :\n",
    "    if ch in \"aeiouAEIOU\":\n",
    "        print(\"character is vowel\")\n",
    "    else:\n",
    "        \n",
    "        print(\"charater is consonant\")\n",
    "else:\n",
    "    print(\"Please enter a single alphabetical character.\")"
   ]
  },
  {
   "cell_type": "markdown",
   "id": "19292490",
   "metadata": {},
   "source": [
    "### Check if a number is divisible by both 3 and 5 in a program."
   ]
  },
  {
   "cell_type": "code",
   "execution_count": 37,
   "id": "979c01f7",
   "metadata": {},
   "outputs": [
    {
     "name": "stdout",
     "output_type": "stream",
     "text": [
      "Enter Number 30\n",
      "number is divisible by both 3 and 5\n"
     ]
    }
   ],
   "source": [
    "num=eval(input(\"Enter Number \"))\n",
    "if num%3==0 and num%5==0:\n",
    "    print(\"number is divisible by both 3 and 5\")\n",
    "else:\n",
    "    print(\"number is not divisible by both 3 and 5\")"
   ]
  },
  {
   "cell_type": "markdown",
   "id": "0ed8e636",
   "metadata": {},
   "source": [
    "### check the product of three numbers and print whether it's positive, negative, or zero."
   ]
  },
  {
   "cell_type": "code",
   "execution_count": 44,
   "id": "862c668b",
   "metadata": {},
   "outputs": [
    {
     "name": "stdout",
     "output_type": "stream",
     "text": [
      "Enter Number 1 = 8\n",
      "Enter Number 2 = 9\n",
      "Enter Number 3 = 0\n",
      "product of three number  0\n",
      "Number is Zero\n"
     ]
    }
   ],
   "source": [
    "num1=eval(input(\"Enter Number 1 = \"))\n",
    "num2=eval(input(\"Enter Number 2 = \"))\n",
    "num3=eval(input(\"Enter Number 3 = \"))\n",
    "z=num1*num2*num3\n",
    "print(\"product of three number \" ,z)\n",
    "if z>0:\n",
    "    print(\"Number is postive\")\n",
    "elif z<0:\n",
    "    print(\"Number is negative\")\n",
    "else:\n",
    "    print(\"Number is Zero\")"
   ]
  },
  {
   "cell_type": "markdown",
   "id": "0522f269",
   "metadata": {},
   "source": [
    "### Check if a number is within the range of 1 to 100 (inclusive) in a program."
   ]
  },
  {
   "cell_type": "code",
   "execution_count": 46,
   "id": "bc49ca19",
   "metadata": {},
   "outputs": [
    {
     "name": "stdout",
     "output_type": "stream",
     "text": [
      "Enter Number -8\n",
      "Number is out of range\n"
     ]
    }
   ],
   "source": [
    "num=eval(input(\"Enter Number \"))\n",
    "if num in range(1,100):\n",
    "    print(\"Number is within the range of 1 to 100\")\n",
    "else:\n",
    "    print(\"Number is out of range\")"
   ]
  },
  {
   "cell_type": "markdown",
   "id": "3a480d8d",
   "metadata": {},
   "source": [
    "### Create a program that checks if a given string is a palindrome without using built-in reverse functions."
   ]
  },
  {
   "cell_type": "code",
   "execution_count": 4,
   "id": "6e8b2d0f",
   "metadata": {},
   "outputs": [
    {
     "name": "stdout",
     "output_type": "stream",
     "text": [
      "Enter a string naman\n",
      "string is same\n"
     ]
    }
   ],
   "source": [
    "str1=input(\"Enter a string \")\n",
    "if str1==str1[: :-1]:\n",
    "    print(\"string is same\")\n",
    "else:\n",
    "    print(\"error\")\n",
    "    "
   ]
  },
  {
   "cell_type": "markdown",
   "id": "b659ef5d",
   "metadata": {},
   "source": [
    "###  Implement a program to calculate the discount on a purchase based on the total amount: 10% for amounts less than 100, 20%     for amounts between 100 and 500, and 30% for amounts over 500.\n"
   ]
  },
  {
   "cell_type": "code",
   "execution_count": 2,
   "id": "23dd6156",
   "metadata": {},
   "outputs": [
    {
     "name": "stdout",
     "output_type": "stream",
     "text": [
      "Enter amount to purchage item 100\n",
      "discount amount 30.0\n"
     ]
    }
   ],
   "source": [
    "acc = eval(input(\"Enter amount to purchage item \"))\n",
    "if acc<100:\n",
    "    print(\"discount amount\",0.10*acc)\n",
    "elif 100<acc and acc<=500:\n",
    "    print(\"discount amount\",0.20*acc)\n",
    "else:\n",
    "    print(\"discount amount\",0.30*acc)"
   ]
  },
  {
   "cell_type": "markdown",
   "id": "60f5ddea",
   "metadata": {},
   "source": [
    "### Implement a program that simulates a simple ATM. Ask the user for their current balance and the amount they want to        withdraw, and then check if the withdrawal is possible.\n"
   ]
  },
  {
   "cell_type": "code",
   "execution_count": 69,
   "id": "6687fe27",
   "metadata": {},
   "outputs": [
    {
     "name": "stdout",
     "output_type": "stream",
     "text": [
      "Enter your current bank balance 5000\n",
      "Enter your withdrawal ammount 6000\n",
      "insufficient balance \n",
      "Current balance is  5000\n"
     ]
    }
   ],
   "source": [
    "bal=int(input(\"Enter your current bank balance \"))\n",
    "wit=int(input(\"Enter your withdrawal ammount \"))\n",
    "if bal>=wit:\n",
    "    print(\"Ammount withdrawal successfully\")\n",
    "    print(\"current balance is \", bal-wit)\n",
    "else:\n",
    "    print(\"insufficient balance \")\n",
    "    print(\"Current balance is \", bal)"
   ]
  },
  {
   "cell_type": "markdown",
   "id": "f41c70c4",
   "metadata": {},
   "source": [
    "###  Create a program to determine the day of the week based on a user-inputted number (1 for Monday, 2 for Tuesday, etc.).\n"
   ]
  },
  {
   "cell_type": "code",
   "execution_count": 74,
   "id": "14335ccc",
   "metadata": {},
   "outputs": [
    {
     "name": "stdout",
     "output_type": "stream",
     "text": [
      "Enter number 7\n",
      "Sunday\n"
     ]
    }
   ],
   "source": [
    "num=int(input(\"Enter number \"))\n",
    "if num==1:\n",
    "    print(\"Sunday\")\n",
    "elif num==2:\n",
    "    print(\"Tuesday\")\n",
    "elif num==3:\n",
    "    print(\"Wednesday\")\n",
    "elif num==4:\n",
    "    print(\"Thursday\")\n",
    "elif num==5:\n",
    "    print(\"Friday\")\n",
    "elif num==6:\n",
    "    print(\"Saturday\")\n",
    "elif num==7:\n",
    "    print(\"Sunday\")\n",
    "else:\n",
    "    print(\"given output range 1 to 7\")"
   ]
  },
  {
   "cell_type": "markdown",
   "id": "c61f9b28",
   "metadata": {},
   "source": [
    "### Create a program that takes three numbers and prints them in ascending order."
   ]
  },
  {
   "cell_type": "code",
   "execution_count": 85,
   "id": "4bedaf01",
   "metadata": {},
   "outputs": [
    {
     "name": "stdout",
     "output_type": "stream",
     "text": [
      "Enter First number 5\n",
      "Enter Second number 56\n",
      "Enter Third number 6\n",
      "5\n",
      "6\n",
      "56\n"
     ]
    }
   ],
   "source": [
    "num1=float(input(\"Enter First number \"))\n",
    "num2=float(input(\"Enter Second number \"))\n",
    "num3=float(input(\"Enter Third number \"))\n",
    "if num1 > num2:\n",
    "    num1, num2 = num2, num1\n",
    "if num1 > num3:\n",
    "    num1, num3 = num3, num1\n",
    "if num2 > num3:\n",
    "    num2, num3 = num3, num2\n",
    "print(num1)\n",
    "print(num2)\n",
    "print(num3)"
   ]
  },
  {
   "cell_type": "markdown",
   "id": "cd352074",
   "metadata": {},
   "source": [
    "### Write a program to determine eligibility for voting based on the user's age."
   ]
  },
  {
   "cell_type": "code",
   "execution_count": 88,
   "id": "095af92f",
   "metadata": {},
   "outputs": [
    {
     "name": "stdout",
     "output_type": "stream",
     "text": [
      "Enter your age 17\n",
      "you are not eligibil for voting \n"
     ]
    }
   ],
   "source": [
    "age=float(input(\"Enter your age \"))\n",
    "if age>=18:\n",
    "    print(\"you are eligibil for voting \")\n",
    "else:\n",
    "    print(\"you are not eligibil for voting \")"
   ]
  },
  {
   "cell_type": "code",
   "execution_count": null,
   "id": "b33f59b9",
   "metadata": {},
   "outputs": [],
   "source": []
  }
 ],
 "metadata": {
  "kernelspec": {
   "display_name": "Python 3 (ipykernel)",
   "language": "python",
   "name": "python3"
  },
  "language_info": {
   "codemirror_mode": {
    "name": "ipython",
    "version": 3
   },
   "file_extension": ".py",
   "mimetype": "text/x-python",
   "name": "python",
   "nbconvert_exporter": "python",
   "pygments_lexer": "ipython3",
   "version": "3.9.12"
  }
 },
 "nbformat": 4,
 "nbformat_minor": 5
}
